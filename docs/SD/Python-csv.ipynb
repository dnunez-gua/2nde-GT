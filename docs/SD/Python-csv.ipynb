{
 "cells": [
  {
   "cell_type": "markdown",
   "metadata": {},
   "source": [
    "# python et csv\n",
    "Executer le code suivant :"
   ]
  },
    {
   "cell_type": "code",
   "execution_count": null,
   "metadata": {},
   "outputs": [],
   "source": [
    "import pandas\n",
    "prenoms = pandas.read_csv(\"dpt2021.csv\", sep=\";\")\n",
    "print(prenom)"   ]
  },
  "cell_type": "markdown",
   "metadata": {},
   "source": [
    "# python et csv\n",
    "Si un tableau s'affiche, tout est OK, vous pouvez passer à la suite.\n",
    "Si le code affiche une erreur, sans doute que le fichier dpt2021.csv n'est pas accessible.\n",
    "Avez-vous bien enregistrer les deux fichiers dans le même repertoire.",
   ]
  },
  {
   "cell_type": "markdown",
   "metadata": {},
   "source": [
    "## analyse des resultats\n",
    "La première ligne correspond aux descripteurs du fichier :<br>\n",
    "\n",
    "**sexe**: sexe du prénom (1 pour un garçon ; 2 pour une fille) ;<br>\n",
    "**preusuel** : prénom ;<br>\n",
    "**annais** : année de naissance (attention : il s'agit de l'année de naissance, et non pas du prénom Anaïs) ;<br>\n",
    "**dpt** : département de naissance ;<br>\n",
    "**nombre**: nombre d'enfants portant ce prénom.<br>\n",
    "Certaines valeurs (pour les années et les départements) sont égales à XXXX. Cela correspond sans doute à des données incorrectes ou inconnues.<br>\n",
    "\n",
    "Chaque ligne suivante correspond à une données différente.<br> \n",
    "Par exemple, l'antépénultième ligne (avant-avant dernière ligne, numéro 3784670) signifie : En 2013, dans le département de Seine-Saint-Denis (93), trois filles sont nées avec le prénom Zyna."
   ]
  },
  {
   "cell_type": "markdown",
   "metadata": {},
   "source": [
    "### A vous de jouer :<br>\n",
    "Complétez la phrase suivante avec les données d'une des lignes que vous voyez affichées <br>\n",
    "En ????, dans le département ???? (??), ??? ????? sont nés/nées avec le prénom ????."
   ]
  },
  {
   "cell_type": "markdown",
   "metadata": {},
   "source": [
    "Il est possible d'afficher une cellule du tableau en particulier. Par exemple, le programme suivant donne l'année de naissance de la ligne numéro 3784668.\n"
   ]
  },
  {
   "cell_type": "markdown",
   "metadata": {},
   "source": [
    "import pandas\n",
    "prenoms = pandas.read_csv(\"dpt2021.csv\", sep=\";\")\n",
    "recherche = prenoms.loc[3784668, \"annais\"]\n",
    "print(recherche)"
   ]
  },
  {
   "cell_type": "markdown",
   "metadata": {},
   "source": [
    "Modifiez le programme précédent pour qu'il affiche uniquement un des prénoms du tableau. Recopiez sur votre compte-rendu la ligne de votre programme `recherche = prenoms.loc[???????]."
   ]
  },
  {
   "cell_type": "code",
   "execution_count": null,
   "metadata": {},
   "outputs": [],
   "source": [
    "# votre programme"
   ]
  },
  {
   "cell_type": "markdown",
   "metadata": {},
   "source": [
    "Il est aussi possible d'afficher toute une ligne ou toute une colonne, en utilisant la syntaxe prenoms.loc[3676679, :] (pour avoir toute la ligne numéro 3676679), ou prenoms.loc[:, \"annais\"] (pour avoir toute la colonne annais (année de naissance)).\n",
    "\n",
    "Modifiez votre programme pour qu'il affiche la colonne des prénoms. Recopiez l'ensemble de votre programme sur le compte-rendu.\n",
    "\n"
   ]
  },
  {
   "cell_type": "code",
   "execution_count": null,
   "metadata": {},
   "outputs": [],
   "source": [
    "# votre programme"
   ]
  },
  {
   "cell_type": "markdown",
   "metadata": {},
   "source": [
    "## Rechercher et trier une base de données\n",
    "Recopier le programme suivant dans Carnets, et exécutez-le. En particulier, vérifiez que ne sont affichés que les prénoms donnés dans le département de l'Isère (38)."
   ]
  },
  {
   "cell_type": "code",
   "execution_count": null,
   "metadata": {},
   "outputs": [],
   "source": [
    "import pandas\n",
    "prenoms = pandas.read_csv(\"dpt2021.csv\", sep=\";\")\n",
    "recherche = prenoms.loc[(prenoms['dpt'] == \"38\"), :]\n",
    "print(recherche)"
   ]
  },
  {
   "cell_type": "markdown",
   "metadata": {},
   "source": [
    "Dans le programme précédent, remplacez la troisième ligne (recherche = prenoms.loc…) par : <br> \n",
    "recherche = prenoms.loc[(prenoms['annais'] == \"2021\"), :]<br>\n",
    "Exécutez le programme, et vérifiez que ne sont affichés que les prénoms donnés l'année 2021.\n",
    "\n"
   ]
  },
  {
   "cell_type": "markdown",
   "metadata": {},
   "source": [
    "Il est possible de combiner les conditions. Remplacez encore la troisième ligne (recherche = …) par le programme suivant.<br>\n",
    "Exécutez-le, et vérifiez que ne sont affichés que les prénoms donnés en Isère (38), l'année 2021 (remarquez le symbole & situé entre les deux conditions)."
   ]
  },
  {
   "cell_type": "code",
   "execution_count": null,
   "metadata": {},
   "outputs": [],
   "source": [
    "import pandas\n",
    "prenoms = pandas.read_csv(\"dpt2021.csv\", sep=\";\")\n",
    "recherche = prenoms.loc[(prenoms['dpt'] == \"38\") & (prenoms['annais'] == \"2021\"), :] \n",
    "print(recherche)"
   ]
  },
  {
   "cell_type": "markdown",
   "metadata": {},
   "source": [
    "Il est possible aussi de trier les résultats. Ajoutons cela à la dernère recherche :\n",
    "\n"
   ]
  },
  {
   "cell_type": "code",
   "execution_count": null,
   "metadata": {},
   "outputs": [],
   "source": [
    "import pandas\n",
    "prenoms = pandas.read_csv(\"dpt2021.csv\", sep=\";\")\n",
    "recherche = prenoms.loc[(prenoms['dpt'] == \"38\") & (prenoms['annais'] == \"2019\"), :]\n",
    "tri = recherche.sort_values(by=\"nombre\")\n",
    "print(tri)"
   ]
  },
  {
   "cell_type": "markdown",
   "metadata": {},
   "source": [
    "Dans cet exemple, les résultats sont triés par le nombre d'enfants portant ces prénoms."
   ]
  },
  {
   "cell_type": "markdown",
   "metadata": {},
   "source": [
    "## Exercices de synthèse\n",
    "Dans ces exercices, vous pourrez découper votre traitement, ce qui pourra faciliter l'exercice. \n",
    "En exemple, le code ci-dessous pourra être utilisé et modifié pour répondre aux questions des 2 exercices. \n"
   ]
  },
  {
   "cell_type": "code",
   "execution_count": null,
   "metadata": {},
   "outputs": [],
   "source": [
    "recherche=prenoms.loc[(prenoms['dpt']==\"38\"),:]\n",
    "recherche=recherche.loc[(recherche['annais']==\"2021\"),:]\n",
    "recherche=recherche.loc[(recherche['preusuel']==\"ELODIE\"),:]\n",
    "print(recherche)"
   ]
  },
  {
   "cell_type": "markdown",
   "metadata": {},
   "source": [
    "\n",
    "### Ex1\n",
    "Répondre à cette question en lisant le résultat du programme de la question précédente. Ignorer les prénoms rares.\n",
    "\n",
    "a. En 2019, en Isère, quel a été le prénom le plus donné ?\n",
    "\n",
    "b. En 2019, en Isère, quel a été le prénom de filles le plus donné ?\n",
    "\n",
    "c. En 2019, en Isère, combien de garçons ont été prénommés Gabriel ?"
   ]
  },
  {
   "cell_type": "code",
   "execution_count": null,
   "metadata": {},
   "outputs": [],
   "source": [
    "# Programme pour l'exercice 1"
   ]
  },
  {
   "cell_type": "markdown",
   "metadata": {},
   "source": [
    "### Ex2\n",
    "\n",
    "\n",
    "a. En quelle année êtes-vous né·e ? Dans quel département ?\n",
    "\n",
    "b. Durant votre année de naissance, dans votre département, quels ont été les prénoms les plus donnés aux filles et aux garçons ?\n",
    "\n",
    "c. Durant votre année de naissance, dans votre département, combien d'enfants ont été nommés avec le même prénom que vous ?"
   ]
  },
  {
   "cell_type": "code",
   "execution_count": null,
   "metadata": {},
   "outputs": [],
   "source": [
    "# Programme pour répondre à l'exercice 2"
   ]
  }
 ],
 "metadata": {
  "kernelspec": {
   "display_name": "Python 3 (ipykernel)",
   "language": "python",
   "name": "python3"
  },
  "language_info": {
   "codemirror_mode": {
    "name": "ipython",
    "version": 3
   },
   "file_extension": ".py",
   "mimetype": "text/x-python",
   "name": "python",
   "nbconvert_exporter": "python",
   "pygments_lexer": "ipython3",
   "version": "3.11.0"
  }
 },
 "nbformat": 4,
 "nbformat_minor": 2
}
